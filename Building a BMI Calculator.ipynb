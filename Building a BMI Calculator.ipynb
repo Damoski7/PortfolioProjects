{
 "cells": [
  {
   "cell_type": "markdown",
   "id": "1e46e9e5-09d1-4d48-8ccf-3ba29540ddd8",
   "metadata": {},
   "source": [
    "# BMI CALCULATOR\n",
    "BMI(Body Mass Index) is a measurement of body fat based on height and weight.\n",
    "A BMI Calculator, like the name suggests, a tool that estimates an individual's body fat based on their height and weight, providing a numerical value that can help assess whether a person is underweight, normal weight, overweight, or obese.\n",
    "It's calculated by BMI = (Weight in kilograms) / (Height in metres * Height in metres)\n",
    "If you're runnning this script using Jupyter Notebooks, take note:\n",
    "To run the script of code click anywhere on the last cell then click \"Shift\" + \"Enter.\"\n",
    "Then press \"Enter\" to move on to the next question i.e \"Enter your height in metres.\"\n"
   ]
  },
  {
   "cell_type": "code",
   "execution_count": null,
   "id": "bfa60cfc-3941-46f1-b47b-7f361bed66f2",
   "metadata": {},
   "outputs": [],
   "source": [
    "# We'll use the input function to receive input form a user \n",
    "Name = input(\"Enter your name: \")\n",
    "Weight = (input(\"Enter your weight in kilograms: \")\n",
    "Height = input(\"Enter your height in metres: \")\n",
    "Age = int(input(\"Enter your age:\"))\n",
    "BMI = (Weight * 703) / (Height * Height) "
   ]
  },
  {
   "cell_type": "code",
   "execution_count": null,
   "id": "38bb6b85-2f5f-4221-84f0-6d529b5cc10a",
   "metadata": {},
   "outputs": [],
   "source": [
    "# The code above would give us this error \"TypeError: can't multiply sequence by non-int of type 'str'\" BECAUSE our weight and height are being stored \n",
    "# ...as strings. NOW, Let's see how our new code would look like:\n",
    "Name = input(\"Enter your name: \")\n",
    "Weight = float(input(\"Enter your weight in kilograms: \"))\n",
    "Height = float(input(\"Enter your height in metres: \"))\n",
    "Age = int(input(\"Enter your age:\"))\n",
    "BMI = (Weight) / (Height * Height)\n",
    "print(\"Your BMI is:\", BMI )"
   ]
  },
  {
   "cell_type": "code",
   "execution_count": null,
   "id": "0493c9c2-5c18-45fb-95a1-f7a07e5237a4",
   "metadata": {},
   "outputs": [],
   "source": [
    "# NEXT, WE NEED TO GIVE THE USER SOME CONTENT. LIKE, 'IS THIS BMI GOOD OR BAD ?' 'WHAT DOES IT MEAN ?' 'WHAT DO I DO TO IMPROVE MY BMI /'\n",
    "#... WE'LL UTITLIZE IF STATEMENTS HERE \n",
    "if BMI > 0:\n",
    "    if (BMI < 18.5):\n",
    "        print(Name +\", you are underweight.\")\n",
    "    elif (BMI<=24.9):\n",
    "        print(Name +\", you are normal weight.\") \n",
    "    elif (BMI<=29.9):\n",
    "        print(Name +\", you are overweight.\") \n",
    "    elif (BMI<=34.9):\n",
    "        print(Name +\", you are obese.\") \n",
    "    elif (BMI<=39.9):\n",
    "        print(Name +\", you are severely obese.\") \n",
    "    elif (BMI>=40):\n",
    "        print(Name +\", you are morbidly obese.\") \n",
    "    else:\n",
    "        print(\"Enter valid inputs.\")"
   ]
  },
  {
   "cell_type": "markdown",
   "id": "9fb069ce-5458-4eed-b2c0-c703e5a6a78b",
   "metadata": {},
   "source": [
    "# NOW LET'S PRESENT OUR BMI CALCULATOR "
   ]
  },
  {
   "cell_type": "code",
   "execution_count": null,
   "id": "139ae98b-3318-485c-97b8-d450a2fbcbdf",
   "metadata": {},
   "outputs": [],
   "source": [
    "Name = input(\"Enter your name: \")\n",
    "Weight = float(input(\"Enter your weight in kilograms: \"))\n",
    "Height = float(input(\"Enter your height in metres: \"))\n",
    "Age = int(input(\"Enter your age:\"))\n",
    "BMI = (Weight) / (Height * Height)\n",
    "print(\"Your BMI is:\", BMI )\n",
    "if BMI > 0:\n",
    "    if (BMI < 18.5):\n",
    "        print(Name +\", you are underweight. You need to increase your calorie intake by incorporating nutrient-dense foods such as lean proteins, whole grains, healthy fats, and fruits/vegetables into your diet\")\n",
    "    elif (BMI<=24.9):\n",
    "        print(Name +\", you are normal weight. You're doing just great!\") \n",
    "    elif (BMI<=29.9):\n",
    "        print(Name +\", you are overweight. Focus on a balanced diet consisting of whole, unprocessed foods, while reducing your intake of sugary beverages, processed snacks, and high-fat foods.\") \n",
    "    elif (BMI<=34.9):\n",
    "        print(Name +\", you are obese. Consult with a healthcare professional to develop a comprehensive weight management plan.\") \n",
    "    elif (BMI<=39.9):\n",
    "        print(Name +\", you are severely obese. In addition to seeking medical guidance, consider the possibility of weight loss surgery or other specialized interventions to address severe obesity\") \n",
    "    elif (BMI>=40):\n",
    "        print(Name +\", you are morbidly obese. Seek immediate medical intervention and support from healthcare professionals\") \n",
    "    else:\n",
    "        print(\"Enter valid inputs.\")"
   ]
  },
  {
   "cell_type": "code",
   "execution_count": null,
   "id": "0e3ad1d7-6b6e-4926-8f28-df43d3260b1b",
   "metadata": {},
   "outputs": [],
   "source": []
  },
  {
   "cell_type": "code",
   "execution_count": null,
   "id": "107506d8-46ec-45ff-937b-3ffc5fd51492",
   "metadata": {},
   "outputs": [],
   "source": []
  },
  {
   "cell_type": "code",
   "execution_count": null,
   "id": "8a1e84ee-b198-4d94-b638-5d8d150853c6",
   "metadata": {},
   "outputs": [],
   "source": []
  },
  {
   "cell_type": "code",
   "execution_count": null,
   "id": "8e6703de-9089-464c-a6e5-bff120da0333",
   "metadata": {},
   "outputs": [],
   "source": []
  },
  {
   "cell_type": "code",
   "execution_count": null,
   "id": "61e25c8a-ed65-4f51-8ab1-13e4acaab36f",
   "metadata": {},
   "outputs": [],
   "source": []
  }
 ],
 "metadata": {
  "kernelspec": {
   "display_name": "Python 3 (ipykernel)",
   "language": "python",
   "name": "python3"
  },
  "language_info": {
   "codemirror_mode": {
    "name": "ipython",
    "version": 3
   },
   "file_extension": ".py",
   "mimetype": "text/x-python",
   "name": "python",
   "nbconvert_exporter": "python",
   "pygments_lexer": "ipython3",
   "version": "3.11.5"
  }
 },
 "nbformat": 4,
 "nbformat_minor": 5
}
