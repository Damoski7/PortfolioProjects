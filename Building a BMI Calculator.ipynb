{
 "cells": [
  {
   "cell_type": "markdown",
   "id": "1e46e9e5-09d1-4d48-8ccf-3ba29540ddd8",
   "metadata": {},
   "source": [
    "# BMI CALCULATOR \n",
    "BMI(Body Mass Index) is a measurement of body fat based on height and weight\n",
    "It's calculated by BMI = (Weight in pounds * 703) / (Height in inches * Height in inches) "
   ]
  },
  {
   "cell_type": "code",
   "execution_count": null,
   "id": "bfa60cfc-3941-46f1-b47b-7f361bed66f2",
   "metadata": {},
   "outputs": [],
   "source": []
  },
  {
   "cell_type": "code",
   "execution_count": null,
   "id": "38bb6b85-2f5f-4221-84f0-6d529b5cc10a",
   "metadata": {},
   "outputs": [],
   "source": []
  },
  {
   "cell_type": "code",
   "execution_count": null,
   "id": "0493c9c2-5c18-45fb-95a1-f7a07e5237a4",
   "metadata": {},
   "outputs": [],
   "source": []
  },
  {
   "cell_type": "code",
   "execution_count": null,
   "id": "7d895e98-2ed0-4e04-9926-b6d3162907c1",
   "metadata": {},
   "outputs": [],
   "source": []
  },
  {
   "cell_type": "code",
   "execution_count": null,
   "id": "139ae98b-3318-485c-97b8-d450a2fbcbdf",
   "metadata": {},
   "outputs": [],
   "source": []
  },
  {
   "cell_type": "code",
   "execution_count": null,
   "id": "0e3ad1d7-6b6e-4926-8f28-df43d3260b1b",
   "metadata": {},
   "outputs": [],
   "source": []
  },
  {
   "cell_type": "code",
   "execution_count": null,
   "id": "107506d8-46ec-45ff-937b-3ffc5fd51492",
   "metadata": {},
   "outputs": [],
   "source": []
  },
  {
   "cell_type": "code",
   "execution_count": null,
   "id": "8a1e84ee-b198-4d94-b638-5d8d150853c6",
   "metadata": {},
   "outputs": [],
   "source": []
  },
  {
   "cell_type": "code",
   "execution_count": null,
   "id": "8e6703de-9089-464c-a6e5-bff120da0333",
   "metadata": {},
   "outputs": [],
   "source": []
  },
  {
   "cell_type": "code",
   "execution_count": null,
   "id": "61e25c8a-ed65-4f51-8ab1-13e4acaab36f",
   "metadata": {},
   "outputs": [],
   "source": []
  }
 ],
 "metadata": {
  "kernelspec": {
   "display_name": "Python 3 (ipykernel)",
   "language": "python",
   "name": "python3"
  },
  "language_info": {
   "codemirror_mode": {
    "name": "ipython",
    "version": 3
   },
   "file_extension": ".py",
   "mimetype": "text/x-python",
   "name": "python",
   "nbconvert_exporter": "python",
   "pygments_lexer": "ipython3",
   "version": "3.11.5"
  }
 },
 "nbformat": 4,
 "nbformat_minor": 5
}
