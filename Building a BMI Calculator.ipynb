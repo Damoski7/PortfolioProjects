# We'll use the input function to receive input form a user 
Name = input("Enter your name: ")
Weight = (input("Enter your weight in kilograms: ")
Height = input("Enter your height in metres: ")
Age = int(input("Enter your age:"))
BMI = (Weight * 703) / (Height * Height)

# The code above would give us this error "TypeError: can't multiply sequence by non-int of type 'str'" BECAUSE our weight and height are being stored 
# ...as strings. NOW, Let's see how our new code would look like:
Name = input("Enter your name: ")
Weight = float(input("Enter your weight in kilograms: "))
Height = float(input("Enter your height in metres: "))
Age = int(input("Enter your age:"))
BMI = (Weight) / (Height * Height)
print("Your BMI is:", BMI )

# NEXT, WE NEED TO GIVE THE USER SOME CONTENT. LIKE, 'IS THIS BMI GOOD OR BAD ?' 'WHAT DOES IT MEAN ?' 'WHAT DO I DO TO IMPROVE MY BMI /'
#... WE'LL UTITLIZE IF STATEMENTS HERE 
if BMI > 0:
    if (BMI < 18.5):
        print(Name +", you are underweight.")
    elif (BMI<=24.9):
        print(Name +", you are normal weight.") 
    elif (BMI<=29.9):
        print(Name +", you are overweight.") 
    elif (BMI<=34.9):
        print(Name +", you are obese.") 
    elif (BMI<=39.9):
        print(Name +", you are severely obese.") 
    elif (BMI>=40):
        print(Name +", you are morbidly obese.") 
    else:
        print("Enter valid inputs.")


# NOW LET'S PRESENT OUR BMI CALCULATOR 


Name = input("Enter your name: ")
Weight = float(input("Enter your weight in kilograms: "))
Height = float(input("Enter your height in metres: "))
Age = int(input("Enter your age:"))
BMI = (Weight) / (Height * Height)
print("Your BMI is:", BMI )
if BMI > 0:
    if (BMI < 18.5):
        print(Name +", you are underweight. You need to increase your calorie intake by incorporating nutrient-dense foods such as lean proteins, whole grains, healthy fats, and fruits/vegetables into your diet")
    elif (BMI<=24.9):
        print(Name +", you are normal weight. You're doing just great!") 
    elif (BMI<=29.9):
        print(Name +", you are overweight. Focus on a balanced diet consisting of whole, unprocessed foods, while reducing your intake of sugary beverages, processed snacks, and high-fat foods.") 
    elif (BMI<=34.9):
        print(Name +", you are obese. Consult with a healthcare professional to develop a comprehensive weight management plan.") 
    elif (BMI<=39.9):
        print(Name +", you are severely obese. In addition to seeking medical guidance, consider the possibility of weight loss surgery or other specialized interventions to address severe obesity") 
    elif (BMI>=40):
        print(Name +", you are morbidly obese. Seek immediate medical intervention and support from healthcare professionals") 
    else:
        print("Enter valid inputs.")
